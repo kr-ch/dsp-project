{
 "cells": [
  {
   "cell_type": "code",
   "execution_count": 170,
   "id": "50d7a1ce",
   "metadata": {},
   "outputs": [],
   "source": [
    "import numpy as np\n",
    "import pandas as pd"
   ]
  },
  {
   "cell_type": "code",
   "execution_count": 171,
   "id": "353afb5c",
   "metadata": {},
   "outputs": [
    {
     "data": {
      "text/html": [
       "<div>\n",
       "<style scoped>\n",
       "    .dataframe tbody tr th:only-of-type {\n",
       "        vertical-align: middle;\n",
       "    }\n",
       "\n",
       "    .dataframe tbody tr th {\n",
       "        vertical-align: top;\n",
       "    }\n",
       "\n",
       "    .dataframe thead th {\n",
       "        text-align: right;\n",
       "    }\n",
       "</style>\n",
       "<table border=\"1\" class=\"dataframe\">\n",
       "  <thead>\n",
       "    <tr style=\"text-align: right;\">\n",
       "      <th></th>\n",
       "      <th>Known As</th>\n",
       "      <th>Full Name</th>\n",
       "      <th>Overall</th>\n",
       "      <th>Potential</th>\n",
       "      <th>Value(in Euro)</th>\n",
       "      <th>Positions Played</th>\n",
       "      <th>Best Position</th>\n",
       "      <th>Nationality</th>\n",
       "      <th>Image Link</th>\n",
       "      <th>Age</th>\n",
       "      <th>...</th>\n",
       "      <th>LM Rating</th>\n",
       "      <th>CM Rating</th>\n",
       "      <th>RM Rating</th>\n",
       "      <th>LWB Rating</th>\n",
       "      <th>CDM Rating</th>\n",
       "      <th>RWB Rating</th>\n",
       "      <th>LB Rating</th>\n",
       "      <th>CB Rating</th>\n",
       "      <th>RB Rating</th>\n",
       "      <th>GK Rating</th>\n",
       "    </tr>\n",
       "  </thead>\n",
       "  <tbody>\n",
       "    <tr>\n",
       "      <th>0</th>\n",
       "      <td>L. Messi</td>\n",
       "      <td>Lionel Messi</td>\n",
       "      <td>91</td>\n",
       "      <td>91</td>\n",
       "      <td>54000000</td>\n",
       "      <td>RW</td>\n",
       "      <td>CAM</td>\n",
       "      <td>Argentina</td>\n",
       "      <td>https://cdn.sofifa.net/players/158/023/23_60.png</td>\n",
       "      <td>35</td>\n",
       "      <td>...</td>\n",
       "      <td>91</td>\n",
       "      <td>88</td>\n",
       "      <td>91</td>\n",
       "      <td>67</td>\n",
       "      <td>66</td>\n",
       "      <td>67</td>\n",
       "      <td>62</td>\n",
       "      <td>53</td>\n",
       "      <td>62</td>\n",
       "      <td>22</td>\n",
       "    </tr>\n",
       "    <tr>\n",
       "      <th>1</th>\n",
       "      <td>K. Benzema</td>\n",
       "      <td>Karim Benzema</td>\n",
       "      <td>91</td>\n",
       "      <td>91</td>\n",
       "      <td>64000000</td>\n",
       "      <td>CF,ST</td>\n",
       "      <td>CF</td>\n",
       "      <td>France</td>\n",
       "      <td>https://cdn.sofifa.net/players/165/153/23_60.png</td>\n",
       "      <td>34</td>\n",
       "      <td>...</td>\n",
       "      <td>89</td>\n",
       "      <td>84</td>\n",
       "      <td>89</td>\n",
       "      <td>67</td>\n",
       "      <td>67</td>\n",
       "      <td>67</td>\n",
       "      <td>63</td>\n",
       "      <td>58</td>\n",
       "      <td>63</td>\n",
       "      <td>21</td>\n",
       "    </tr>\n",
       "    <tr>\n",
       "      <th>2</th>\n",
       "      <td>R. Lewandowski</td>\n",
       "      <td>Robert Lewandowski</td>\n",
       "      <td>91</td>\n",
       "      <td>91</td>\n",
       "      <td>84000000</td>\n",
       "      <td>ST</td>\n",
       "      <td>ST</td>\n",
       "      <td>Poland</td>\n",
       "      <td>https://cdn.sofifa.net/players/188/545/23_60.png</td>\n",
       "      <td>33</td>\n",
       "      <td>...</td>\n",
       "      <td>86</td>\n",
       "      <td>83</td>\n",
       "      <td>86</td>\n",
       "      <td>67</td>\n",
       "      <td>69</td>\n",
       "      <td>67</td>\n",
       "      <td>64</td>\n",
       "      <td>63</td>\n",
       "      <td>64</td>\n",
       "      <td>22</td>\n",
       "    </tr>\n",
       "    <tr>\n",
       "      <th>3</th>\n",
       "      <td>K. De Bruyne</td>\n",
       "      <td>Kevin De Bruyne</td>\n",
       "      <td>91</td>\n",
       "      <td>91</td>\n",
       "      <td>107500000</td>\n",
       "      <td>CM,CAM</td>\n",
       "      <td>CM</td>\n",
       "      <td>Belgium</td>\n",
       "      <td>https://cdn.sofifa.net/players/192/985/23_60.png</td>\n",
       "      <td>31</td>\n",
       "      <td>...</td>\n",
       "      <td>91</td>\n",
       "      <td>91</td>\n",
       "      <td>91</td>\n",
       "      <td>82</td>\n",
       "      <td>82</td>\n",
       "      <td>82</td>\n",
       "      <td>78</td>\n",
       "      <td>72</td>\n",
       "      <td>78</td>\n",
       "      <td>24</td>\n",
       "    </tr>\n",
       "    <tr>\n",
       "      <th>4</th>\n",
       "      <td>K. Mbappé</td>\n",
       "      <td>Kylian Mbappé</td>\n",
       "      <td>91</td>\n",
       "      <td>95</td>\n",
       "      <td>190500000</td>\n",
       "      <td>ST,LW</td>\n",
       "      <td>ST</td>\n",
       "      <td>France</td>\n",
       "      <td>https://cdn.sofifa.net/players/231/747/23_60.png</td>\n",
       "      <td>23</td>\n",
       "      <td>...</td>\n",
       "      <td>92</td>\n",
       "      <td>84</td>\n",
       "      <td>92</td>\n",
       "      <td>70</td>\n",
       "      <td>66</td>\n",
       "      <td>70</td>\n",
       "      <td>66</td>\n",
       "      <td>57</td>\n",
       "      <td>66</td>\n",
       "      <td>21</td>\n",
       "    </tr>\n",
       "  </tbody>\n",
       "</table>\n",
       "<p>5 rows × 89 columns</p>\n",
       "</div>"
      ],
      "text/plain": [
       "         Known As           Full Name  Overall  Potential  Value(in Euro)  \\\n",
       "0        L. Messi        Lionel Messi       91         91        54000000   \n",
       "1      K. Benzema       Karim Benzema       91         91        64000000   \n",
       "2  R. Lewandowski  Robert Lewandowski       91         91        84000000   \n",
       "3    K. De Bruyne     Kevin De Bruyne       91         91       107500000   \n",
       "4       K. Mbappé       Kylian Mbappé       91         95       190500000   \n",
       "\n",
       "  Positions Played Best Position Nationality  \\\n",
       "0               RW           CAM   Argentina   \n",
       "1            CF,ST            CF      France   \n",
       "2               ST            ST      Poland   \n",
       "3           CM,CAM            CM     Belgium   \n",
       "4            ST,LW            ST      France   \n",
       "\n",
       "                                         Image Link  Age  ...  LM Rating  \\\n",
       "0  https://cdn.sofifa.net/players/158/023/23_60.png   35  ...         91   \n",
       "1  https://cdn.sofifa.net/players/165/153/23_60.png   34  ...         89   \n",
       "2  https://cdn.sofifa.net/players/188/545/23_60.png   33  ...         86   \n",
       "3  https://cdn.sofifa.net/players/192/985/23_60.png   31  ...         91   \n",
       "4  https://cdn.sofifa.net/players/231/747/23_60.png   23  ...         92   \n",
       "\n",
       "   CM Rating  RM Rating  LWB Rating CDM Rating  RWB Rating  LB Rating  \\\n",
       "0         88         91          67         66          67         62   \n",
       "1         84         89          67         67          67         63   \n",
       "2         83         86          67         69          67         64   \n",
       "3         91         91          82         82          82         78   \n",
       "4         84         92          70         66          70         66   \n",
       "\n",
       "  CB Rating RB Rating GK Rating  \n",
       "0        53        62        22  \n",
       "1        58        63        21  \n",
       "2        63        64        22  \n",
       "3        72        78        24  \n",
       "4        57        66        21  \n",
       "\n",
       "[5 rows x 89 columns]"
      ]
     },
     "execution_count": 171,
     "metadata": {},
     "output_type": "execute_result"
    }
   ],
   "source": [
    "fifa = pd.read_csv(\"/Users/zakeerahmedshaik/Downloads/Fifa 23 Players Data.csv\")\n",
    "fifa.head()"
   ]
  },
  {
   "cell_type": "code",
   "execution_count": 172,
   "id": "a3c1a0c3",
   "metadata": {},
   "outputs": [
    {
     "name": "stdout",
     "output_type": "stream",
     "text": [
      "<class 'pandas.core.frame.DataFrame'>\n",
      "RangeIndex: 18539 entries, 0 to 18538\n",
      "Data columns (total 89 columns):\n",
      " #   Column                       Non-Null Count  Dtype \n",
      "---  ------                       --------------  ----- \n",
      " 0   Known As                     18539 non-null  object\n",
      " 1   Full Name                    18539 non-null  object\n",
      " 2   Overall                      18539 non-null  int64 \n",
      " 3   Potential                    18539 non-null  int64 \n",
      " 4   Value(in Euro)               18539 non-null  int64 \n",
      " 5   Positions Played             18539 non-null  object\n",
      " 6   Best Position                18539 non-null  object\n",
      " 7   Nationality                  18539 non-null  object\n",
      " 8   Image Link                   18539 non-null  object\n",
      " 9   Age                          18539 non-null  int64 \n",
      " 10  Height(in cm)                18539 non-null  int64 \n",
      " 11  Weight(in kg)                18539 non-null  int64 \n",
      " 12  TotalStats                   18539 non-null  int64 \n",
      " 13  BaseStats                    18539 non-null  int64 \n",
      " 14  Club Name                    18539 non-null  object\n",
      " 15  Wage(in Euro)                18539 non-null  int64 \n",
      " 16  Release Clause               18539 non-null  int64 \n",
      " 17  Club Position                18539 non-null  object\n",
      " 18  Contract Until               18539 non-null  object\n",
      " 19  Club Jersey Number           18539 non-null  object\n",
      " 20  Joined On                    18539 non-null  int64 \n",
      " 21  On Loan                      18539 non-null  object\n",
      " 22  Preferred Foot               18539 non-null  object\n",
      " 23  Weak Foot Rating             18539 non-null  int64 \n",
      " 24  Skill Moves                  18539 non-null  int64 \n",
      " 25  International Reputation     18539 non-null  int64 \n",
      " 26  National Team Name           18539 non-null  object\n",
      " 27  National Team Image Link     18539 non-null  object\n",
      " 28  National Team Position       18539 non-null  object\n",
      " 29  National Team Jersey Number  18539 non-null  object\n",
      " 30  Attacking Work Rate          18539 non-null  object\n",
      " 31  Defensive Work Rate          18539 non-null  object\n",
      " 32  Pace Total                   18539 non-null  int64 \n",
      " 33  Shooting Total               18539 non-null  int64 \n",
      " 34  Passing Total                18539 non-null  int64 \n",
      " 35  Dribbling Total              18539 non-null  int64 \n",
      " 36  Defending Total              18539 non-null  int64 \n",
      " 37  Physicality Total            18539 non-null  int64 \n",
      " 38  Crossing                     18539 non-null  int64 \n",
      " 39  Finishing                    18539 non-null  int64 \n",
      " 40  Heading Accuracy             18539 non-null  int64 \n",
      " 41  Short Passing                18539 non-null  int64 \n",
      " 42  Volleys                      18539 non-null  int64 \n",
      " 43  Dribbling                    18539 non-null  int64 \n",
      " 44  Curve                        18539 non-null  int64 \n",
      " 45  Freekick Accuracy            18539 non-null  int64 \n",
      " 46  LongPassing                  18539 non-null  int64 \n",
      " 47  BallControl                  18539 non-null  int64 \n",
      " 48  Acceleration                 18539 non-null  int64 \n",
      " 49  Sprint Speed                 18539 non-null  int64 \n",
      " 50  Agility                      18539 non-null  int64 \n",
      " 51  Reactions                    18539 non-null  int64 \n",
      " 52  Balance                      18539 non-null  int64 \n",
      " 53  Shot Power                   18539 non-null  int64 \n",
      " 54  Jumping                      18539 non-null  int64 \n",
      " 55  Stamina                      18539 non-null  int64 \n",
      " 56  Strength                     18539 non-null  int64 \n",
      " 57  Long Shots                   18539 non-null  int64 \n",
      " 58  Aggression                   18539 non-null  int64 \n",
      " 59  Interceptions                18539 non-null  int64 \n",
      " 60  Positioning                  18539 non-null  int64 \n",
      " 61  Vision                       18539 non-null  int64 \n",
      " 62  Penalties                    18539 non-null  int64 \n",
      " 63  Composure                    18539 non-null  int64 \n",
      " 64  Marking                      18539 non-null  int64 \n",
      " 65  Standing Tackle              18539 non-null  int64 \n",
      " 66  Sliding Tackle               18539 non-null  int64 \n",
      " 67  Goalkeeper Diving            18539 non-null  int64 \n",
      " 68  Goalkeeper Handling          18539 non-null  int64 \n",
      " 69   GoalkeeperKicking           18539 non-null  int64 \n",
      " 70  Goalkeeper Positioning       18539 non-null  int64 \n",
      " 71  Goalkeeper Reflexes          18539 non-null  int64 \n",
      " 72  ST Rating                    18539 non-null  int64 \n",
      " 73  LW Rating                    18539 non-null  int64 \n",
      " 74  LF Rating                    18539 non-null  int64 \n",
      " 75  CF Rating                    18539 non-null  int64 \n",
      " 76  RF Rating                    18539 non-null  int64 \n",
      " 77  RW Rating                    18539 non-null  int64 \n",
      " 78  CAM Rating                   18539 non-null  int64 \n",
      " 79  LM Rating                    18539 non-null  int64 \n",
      " 80  CM Rating                    18539 non-null  int64 \n",
      " 81  RM Rating                    18539 non-null  int64 \n",
      " 82  LWB Rating                   18539 non-null  int64 \n",
      " 83  CDM Rating                   18539 non-null  int64 \n",
      " 84  RWB Rating                   18539 non-null  int64 \n",
      " 85  LB Rating                    18539 non-null  int64 \n",
      " 86  CB Rating                    18539 non-null  int64 \n",
      " 87  RB Rating                    18539 non-null  int64 \n",
      " 88  GK Rating                    18539 non-null  int64 \n",
      "dtypes: int64(71), object(18)\n",
      "memory usage: 12.6+ MB\n"
     ]
    }
   ],
   "source": [
    "fifa.info()"
   ]
  },
  {
   "cell_type": "code",
   "execution_count": 173,
   "id": "44f5276a",
   "metadata": {
    "scrolled": true
   },
   "outputs": [
    {
     "name": "stdout",
     "output_type": "stream",
     "text": [
      "<class 'pandas.core.frame.DataFrame'>\n",
      "RangeIndex: 18539 entries, 0 to 18538\n",
      "Data columns (total 89 columns):\n",
      " #   Column                       Non-Null Count  Dtype \n",
      "---  ------                       --------------  ----- \n",
      " 0   Known As                     18539 non-null  object\n",
      " 1   Full Name                    18539 non-null  object\n",
      " 2   Overall                      18539 non-null  int64 \n",
      " 3   Potential                    18539 non-null  int64 \n",
      " 4   Value(in Euro)               18539 non-null  int64 \n",
      " 5   Positions Played             18539 non-null  object\n",
      " 6   Best Position                18539 non-null  object\n",
      " 7   Nationality                  18539 non-null  object\n",
      " 8   Image Link                   18539 non-null  object\n",
      " 9   Age                          18539 non-null  int64 \n",
      " 10  Height(in cm)                18539 non-null  int64 \n",
      " 11  Weight(in kg)                18539 non-null  int64 \n",
      " 12  TotalStats                   18539 non-null  int64 \n",
      " 13  BaseStats                    18539 non-null  int64 \n",
      " 14  Club Name                    18539 non-null  object\n",
      " 15  Wage(in Euro)                18539 non-null  int64 \n",
      " 16  Release Clause               18539 non-null  int64 \n",
      " 17  Club Position                18539 non-null  object\n",
      " 18  Contract Until               18539 non-null  object\n",
      " 19  Club Jersey Number           18539 non-null  object\n",
      " 20  Joined On                    18539 non-null  int64 \n",
      " 21  On Loan                      18539 non-null  object\n",
      " 22  Preferred Foot               18539 non-null  object\n",
      " 23  Weak Foot Rating             18539 non-null  int64 \n",
      " 24  Skill Moves                  18539 non-null  int64 \n",
      " 25  International Reputation     18539 non-null  int64 \n",
      " 26  National Team Name           18539 non-null  object\n",
      " 27  National Team Image Link     18539 non-null  object\n",
      " 28  National Team Position       18539 non-null  object\n",
      " 29  National Team Jersey Number  18539 non-null  object\n",
      " 30  Attacking Work Rate          18539 non-null  object\n",
      " 31  Defensive Work Rate          18539 non-null  object\n",
      " 32  Pace Total                   18539 non-null  int64 \n",
      " 33  Shooting Total               18539 non-null  int64 \n",
      " 34  Passing Total                18539 non-null  int64 \n",
      " 35  Dribbling Total              18539 non-null  int64 \n",
      " 36  Defending Total              18539 non-null  int64 \n",
      " 37  Physicality Total            18539 non-null  int64 \n",
      " 38  Crossing                     18539 non-null  int64 \n",
      " 39  Finishing                    18539 non-null  int64 \n",
      " 40  Heading Accuracy             18539 non-null  int64 \n",
      " 41  Short Passing                18539 non-null  int64 \n",
      " 42  Volleys                      18539 non-null  int64 \n",
      " 43  Dribbling                    18539 non-null  int64 \n",
      " 44  Curve                        18539 non-null  int64 \n",
      " 45  Freekick Accuracy            18539 non-null  int64 \n",
      " 46  LongPassing                  18539 non-null  int64 \n",
      " 47  BallControl                  18539 non-null  int64 \n",
      " 48  Acceleration                 18539 non-null  int64 \n",
      " 49  Sprint Speed                 18539 non-null  int64 \n",
      " 50  Agility                      18539 non-null  int64 \n",
      " 51  Reactions                    18539 non-null  int64 \n",
      " 52  Balance                      18539 non-null  int64 \n",
      " 53  Shot Power                   18539 non-null  int64 \n",
      " 54  Jumping                      18539 non-null  int64 \n",
      " 55  Stamina                      18539 non-null  int64 \n",
      " 56  Strength                     18539 non-null  int64 \n",
      " 57  Long Shots                   18539 non-null  int64 \n",
      " 58  Aggression                   18539 non-null  int64 \n",
      " 59  Interceptions                18539 non-null  int64 \n",
      " 60  Positioning                  18539 non-null  int64 \n",
      " 61  Vision                       18539 non-null  int64 \n",
      " 62  Penalties                    18539 non-null  int64 \n",
      " 63  Composure                    18539 non-null  int64 \n",
      " 64  Marking                      18539 non-null  int64 \n",
      " 65  Standing Tackle              18539 non-null  int64 \n",
      " 66  Sliding Tackle               18539 non-null  int64 \n",
      " 67  Goalkeeper Diving            18539 non-null  int64 \n",
      " 68  Goalkeeper Handling          18539 non-null  int64 \n",
      " 69   GoalkeeperKicking           18539 non-null  int64 \n",
      " 70  Goalkeeper Positioning       18539 non-null  int64 \n",
      " 71  Goalkeeper Reflexes          18539 non-null  int64 \n",
      " 72  ST Rating                    18539 non-null  int64 \n",
      " 73  LW Rating                    18539 non-null  int64 \n",
      " 74  LF Rating                    18539 non-null  int64 \n",
      " 75  CF Rating                    18539 non-null  int64 \n",
      " 76  RF Rating                    18539 non-null  int64 \n",
      " 77  RW Rating                    18539 non-null  int64 \n",
      " 78  CAM Rating                   18539 non-null  int64 \n",
      " 79  LM Rating                    18539 non-null  int64 \n",
      " 80  CM Rating                    18539 non-null  int64 \n",
      " 81  RM Rating                    18539 non-null  int64 \n",
      " 82  LWB Rating                   18539 non-null  int64 \n",
      " 83  CDM Rating                   18539 non-null  int64 \n",
      " 84  RWB Rating                   18539 non-null  int64 \n",
      " 85  LB Rating                    18539 non-null  int64 \n",
      " 86  CB Rating                    18539 non-null  int64 \n",
      " 87  RB Rating                    18539 non-null  int64 \n",
      " 88  GK Rating                    18539 non-null  int64 \n",
      "dtypes: int64(71), object(18)\n",
      "memory usage: 12.6+ MB\n"
     ]
    }
   ],
   "source": [
    "fifa.dropna(axis=0, inplace=True)\n",
    "\n",
    "# pandas specific issue - why you might want to reset the index\n",
    "# housing.reset_index(inplace=True, drop=True)\n",
    "\n",
    "fifa.describe()\n",
    "fifa.info()"
   ]
  },
  {
   "cell_type": "markdown",
   "id": "cccbf381",
   "metadata": {},
   "source": [
    "# creating 3 differernt target variables"
   ]
  },
  {
   "cell_type": "code",
   "execution_count": 174,
   "id": "9eccbd06",
   "metadata": {},
   "outputs": [],
   "source": [
    "actual_ratings=fifa[\"Overall\"]\n",
    "actual_wage=fifa[\"Wage(in Euro)\"]\n"
   ]
  },
  {
   "cell_type": "code",
   "execution_count": 175,
   "id": "e5bd903c",
   "metadata": {},
   "outputs": [],
   "source": [
    "actual_value=fifa[\"Value(in Euro)\"]"
   ]
  },
  {
   "cell_type": "code",
   "execution_count": 176,
   "id": "10cf88cc",
   "metadata": {
    "scrolled": true
   },
   "outputs": [
    {
     "data": {
      "text/plain": [
       "0    91\n",
       "1    91\n",
       "2    91\n",
       "3    91\n",
       "4    91\n",
       "5    90\n",
       "6    90\n",
       "7    90\n",
       "8    90\n",
       "9    90\n",
       "Name: Overall, dtype: int64"
      ]
     },
     "execution_count": 176,
     "metadata": {},
     "output_type": "execute_result"
    }
   ],
   "source": [
    "actual_ratings[:10]"
   ]
  },
  {
   "cell_type": "markdown",
   "id": "e5481add",
   "metadata": {},
   "source": [
    "# creating independent variables"
   ]
  },
  {
   "cell_type": "code",
   "execution_count": 177,
   "id": "6c02cb79",
   "metadata": {},
   "outputs": [],
   "source": [
    "fifa_necc= fifa.drop([\"Known As\",\n",
    "                     \"Full Name\",\n",
    "                     \"Potential\",\n",
    "                      \"Overall\",\n",
    "                     \"Value(in Euro)\"\n",
    "                     ,\"Positions Played\",\n",
    "                     \"Nationality\",\n",
    "                     \"Image Link\",\n",
    "                     \"Club Name\",\n",
    "                    \"Wage(in Euro)\",\n",
    "                    \"Release Clause\",\n",
    "                    \"Club Position\",\n",
    "                    \"Contract Until\",\n",
    "                    \"Club Jersey Number\",\"Joined On\",\"On Loan\",\"International Reputation\",\n",
    "                     \"National Team Name\",\"National Team Image Link\",\"National Team Position\",\"National Team Jersey Number\"],axis=1)"
   ]
  },
  {
   "cell_type": "code",
   "execution_count": 178,
   "id": "43c6a35e",
   "metadata": {
    "scrolled": false
   },
   "outputs": [
    {
     "data": {
      "text/html": [
       "<div>\n",
       "<style scoped>\n",
       "    .dataframe tbody tr th:only-of-type {\n",
       "        vertical-align: middle;\n",
       "    }\n",
       "\n",
       "    .dataframe tbody tr th {\n",
       "        vertical-align: top;\n",
       "    }\n",
       "\n",
       "    .dataframe thead th {\n",
       "        text-align: right;\n",
       "    }\n",
       "</style>\n",
       "<table border=\"1\" class=\"dataframe\">\n",
       "  <thead>\n",
       "    <tr style=\"text-align: right;\">\n",
       "      <th></th>\n",
       "      <th>Best Position</th>\n",
       "      <th>Age</th>\n",
       "      <th>Height(in cm)</th>\n",
       "      <th>Weight(in kg)</th>\n",
       "      <th>TotalStats</th>\n",
       "      <th>BaseStats</th>\n",
       "      <th>Preferred Foot</th>\n",
       "      <th>Weak Foot Rating</th>\n",
       "      <th>Skill Moves</th>\n",
       "      <th>Attacking Work Rate</th>\n",
       "      <th>...</th>\n",
       "      <th>LM Rating</th>\n",
       "      <th>CM Rating</th>\n",
       "      <th>RM Rating</th>\n",
       "      <th>LWB Rating</th>\n",
       "      <th>CDM Rating</th>\n",
       "      <th>RWB Rating</th>\n",
       "      <th>LB Rating</th>\n",
       "      <th>CB Rating</th>\n",
       "      <th>RB Rating</th>\n",
       "      <th>GK Rating</th>\n",
       "    </tr>\n",
       "  </thead>\n",
       "  <tbody>\n",
       "    <tr>\n",
       "      <th>0</th>\n",
       "      <td>CAM</td>\n",
       "      <td>35</td>\n",
       "      <td>169</td>\n",
       "      <td>67</td>\n",
       "      <td>2190</td>\n",
       "      <td>452</td>\n",
       "      <td>Left</td>\n",
       "      <td>4</td>\n",
       "      <td>4</td>\n",
       "      <td>Low</td>\n",
       "      <td>...</td>\n",
       "      <td>91</td>\n",
       "      <td>88</td>\n",
       "      <td>91</td>\n",
       "      <td>67</td>\n",
       "      <td>66</td>\n",
       "      <td>67</td>\n",
       "      <td>62</td>\n",
       "      <td>53</td>\n",
       "      <td>62</td>\n",
       "      <td>22</td>\n",
       "    </tr>\n",
       "    <tr>\n",
       "      <th>1</th>\n",
       "      <td>CF</td>\n",
       "      <td>34</td>\n",
       "      <td>185</td>\n",
       "      <td>81</td>\n",
       "      <td>2147</td>\n",
       "      <td>455</td>\n",
       "      <td>Right</td>\n",
       "      <td>4</td>\n",
       "      <td>4</td>\n",
       "      <td>Medium</td>\n",
       "      <td>...</td>\n",
       "      <td>89</td>\n",
       "      <td>84</td>\n",
       "      <td>89</td>\n",
       "      <td>67</td>\n",
       "      <td>67</td>\n",
       "      <td>67</td>\n",
       "      <td>63</td>\n",
       "      <td>58</td>\n",
       "      <td>63</td>\n",
       "      <td>21</td>\n",
       "    </tr>\n",
       "    <tr>\n",
       "      <th>2</th>\n",
       "      <td>ST</td>\n",
       "      <td>33</td>\n",
       "      <td>185</td>\n",
       "      <td>81</td>\n",
       "      <td>2205</td>\n",
       "      <td>458</td>\n",
       "      <td>Right</td>\n",
       "      <td>4</td>\n",
       "      <td>4</td>\n",
       "      <td>High</td>\n",
       "      <td>...</td>\n",
       "      <td>86</td>\n",
       "      <td>83</td>\n",
       "      <td>86</td>\n",
       "      <td>67</td>\n",
       "      <td>69</td>\n",
       "      <td>67</td>\n",
       "      <td>64</td>\n",
       "      <td>63</td>\n",
       "      <td>64</td>\n",
       "      <td>22</td>\n",
       "    </tr>\n",
       "    <tr>\n",
       "      <th>3</th>\n",
       "      <td>CM</td>\n",
       "      <td>31</td>\n",
       "      <td>181</td>\n",
       "      <td>70</td>\n",
       "      <td>2303</td>\n",
       "      <td>483</td>\n",
       "      <td>Right</td>\n",
       "      <td>5</td>\n",
       "      <td>4</td>\n",
       "      <td>High</td>\n",
       "      <td>...</td>\n",
       "      <td>91</td>\n",
       "      <td>91</td>\n",
       "      <td>91</td>\n",
       "      <td>82</td>\n",
       "      <td>82</td>\n",
       "      <td>82</td>\n",
       "      <td>78</td>\n",
       "      <td>72</td>\n",
       "      <td>78</td>\n",
       "      <td>24</td>\n",
       "    </tr>\n",
       "    <tr>\n",
       "      <th>4</th>\n",
       "      <td>ST</td>\n",
       "      <td>23</td>\n",
       "      <td>182</td>\n",
       "      <td>73</td>\n",
       "      <td>2177</td>\n",
       "      <td>470</td>\n",
       "      <td>Right</td>\n",
       "      <td>4</td>\n",
       "      <td>5</td>\n",
       "      <td>High</td>\n",
       "      <td>...</td>\n",
       "      <td>92</td>\n",
       "      <td>84</td>\n",
       "      <td>92</td>\n",
       "      <td>70</td>\n",
       "      <td>66</td>\n",
       "      <td>70</td>\n",
       "      <td>66</td>\n",
       "      <td>57</td>\n",
       "      <td>66</td>\n",
       "      <td>21</td>\n",
       "    </tr>\n",
       "    <tr>\n",
       "      <th>...</th>\n",
       "      <td>...</td>\n",
       "      <td>...</td>\n",
       "      <td>...</td>\n",
       "      <td>...</td>\n",
       "      <td>...</td>\n",
       "      <td>...</td>\n",
       "      <td>...</td>\n",
       "      <td>...</td>\n",
       "      <td>...</td>\n",
       "      <td>...</td>\n",
       "      <td>...</td>\n",
       "      <td>...</td>\n",
       "      <td>...</td>\n",
       "      <td>...</td>\n",
       "      <td>...</td>\n",
       "      <td>...</td>\n",
       "      <td>...</td>\n",
       "      <td>...</td>\n",
       "      <td>...</td>\n",
       "      <td>...</td>\n",
       "      <td>...</td>\n",
       "    </tr>\n",
       "    <tr>\n",
       "      <th>18534</th>\n",
       "      <td>CAM</td>\n",
       "      <td>21</td>\n",
       "      <td>174</td>\n",
       "      <td>68</td>\n",
       "      <td>1287</td>\n",
       "      <td>274</td>\n",
       "      <td>Right</td>\n",
       "      <td>3</td>\n",
       "      <td>2</td>\n",
       "      <td>Medium</td>\n",
       "      <td>...</td>\n",
       "      <td>50</td>\n",
       "      <td>44</td>\n",
       "      <td>50</td>\n",
       "      <td>41</td>\n",
       "      <td>38</td>\n",
       "      <td>41</td>\n",
       "      <td>40</td>\n",
       "      <td>36</td>\n",
       "      <td>40</td>\n",
       "      <td>15</td>\n",
       "    </tr>\n",
       "    <tr>\n",
       "      <th>18535</th>\n",
       "      <td>CDM</td>\n",
       "      <td>17</td>\n",
       "      <td>175</td>\n",
       "      <td>60</td>\n",
       "      <td>1289</td>\n",
       "      <td>267</td>\n",
       "      <td>Right</td>\n",
       "      <td>3</td>\n",
       "      <td>2</td>\n",
       "      <td>Medium</td>\n",
       "      <td>...</td>\n",
       "      <td>45</td>\n",
       "      <td>45</td>\n",
       "      <td>45</td>\n",
       "      <td>47</td>\n",
       "      <td>48</td>\n",
       "      <td>47</td>\n",
       "      <td>49</td>\n",
       "      <td>49</td>\n",
       "      <td>49</td>\n",
       "      <td>15</td>\n",
       "    </tr>\n",
       "    <tr>\n",
       "      <th>18536</th>\n",
       "      <td>RM</td>\n",
       "      <td>18</td>\n",
       "      <td>170</td>\n",
       "      <td>65</td>\n",
       "      <td>1333</td>\n",
       "      <td>277</td>\n",
       "      <td>Right</td>\n",
       "      <td>3</td>\n",
       "      <td>2</td>\n",
       "      <td>High</td>\n",
       "      <td>...</td>\n",
       "      <td>52</td>\n",
       "      <td>49</td>\n",
       "      <td>52</td>\n",
       "      <td>46</td>\n",
       "      <td>44</td>\n",
       "      <td>46</td>\n",
       "      <td>46</td>\n",
       "      <td>42</td>\n",
       "      <td>46</td>\n",
       "      <td>17</td>\n",
       "    </tr>\n",
       "    <tr>\n",
       "      <th>18537</th>\n",
       "      <td>CB</td>\n",
       "      <td>17</td>\n",
       "      <td>178</td>\n",
       "      <td>65</td>\n",
       "      <td>1113</td>\n",
       "      <td>226</td>\n",
       "      <td>Right</td>\n",
       "      <td>3</td>\n",
       "      <td>2</td>\n",
       "      <td>Medium</td>\n",
       "      <td>...</td>\n",
       "      <td>33</td>\n",
       "      <td>33</td>\n",
       "      <td>33</td>\n",
       "      <td>44</td>\n",
       "      <td>42</td>\n",
       "      <td>44</td>\n",
       "      <td>47</td>\n",
       "      <td>49</td>\n",
       "      <td>47</td>\n",
       "      <td>15</td>\n",
       "    </tr>\n",
       "    <tr>\n",
       "      <th>18538</th>\n",
       "      <td>LB</td>\n",
       "      <td>25</td>\n",
       "      <td>176</td>\n",
       "      <td>66</td>\n",
       "      <td>1277</td>\n",
       "      <td>269</td>\n",
       "      <td>Left</td>\n",
       "      <td>3</td>\n",
       "      <td>2</td>\n",
       "      <td>Medium</td>\n",
       "      <td>...</td>\n",
       "      <td>44</td>\n",
       "      <td>40</td>\n",
       "      <td>44</td>\n",
       "      <td>46</td>\n",
       "      <td>43</td>\n",
       "      <td>46</td>\n",
       "      <td>47</td>\n",
       "      <td>47</td>\n",
       "      <td>47</td>\n",
       "      <td>19</td>\n",
       "    </tr>\n",
       "  </tbody>\n",
       "</table>\n",
       "<p>18539 rows × 68 columns</p>\n",
       "</div>"
      ],
      "text/plain": [
       "      Best Position  Age  Height(in cm)  Weight(in kg)  TotalStats  BaseStats  \\\n",
       "0               CAM   35            169             67        2190        452   \n",
       "1                CF   34            185             81        2147        455   \n",
       "2                ST   33            185             81        2205        458   \n",
       "3                CM   31            181             70        2303        483   \n",
       "4                ST   23            182             73        2177        470   \n",
       "...             ...  ...            ...            ...         ...        ...   \n",
       "18534           CAM   21            174             68        1287        274   \n",
       "18535           CDM   17            175             60        1289        267   \n",
       "18536            RM   18            170             65        1333        277   \n",
       "18537            CB   17            178             65        1113        226   \n",
       "18538            LB   25            176             66        1277        269   \n",
       "\n",
       "      Preferred Foot  Weak Foot Rating  Skill Moves Attacking Work Rate  ...  \\\n",
       "0               Left                 4            4                 Low  ...   \n",
       "1              Right                 4            4              Medium  ...   \n",
       "2              Right                 4            4                High  ...   \n",
       "3              Right                 5            4                High  ...   \n",
       "4              Right                 4            5                High  ...   \n",
       "...              ...               ...          ...                 ...  ...   \n",
       "18534          Right                 3            2              Medium  ...   \n",
       "18535          Right                 3            2              Medium  ...   \n",
       "18536          Right                 3            2                High  ...   \n",
       "18537          Right                 3            2              Medium  ...   \n",
       "18538           Left                 3            2              Medium  ...   \n",
       "\n",
       "      LM Rating  CM Rating  RM Rating  LWB Rating  CDM Rating  RWB Rating  \\\n",
       "0            91         88         91          67          66          67   \n",
       "1            89         84         89          67          67          67   \n",
       "2            86         83         86          67          69          67   \n",
       "3            91         91         91          82          82          82   \n",
       "4            92         84         92          70          66          70   \n",
       "...         ...        ...        ...         ...         ...         ...   \n",
       "18534        50         44         50          41          38          41   \n",
       "18535        45         45         45          47          48          47   \n",
       "18536        52         49         52          46          44          46   \n",
       "18537        33         33         33          44          42          44   \n",
       "18538        44         40         44          46          43          46   \n",
       "\n",
       "       LB Rating  CB Rating  RB Rating  GK Rating  \n",
       "0             62         53         62         22  \n",
       "1             63         58         63         21  \n",
       "2             64         63         64         22  \n",
       "3             78         72         78         24  \n",
       "4             66         57         66         21  \n",
       "...          ...        ...        ...        ...  \n",
       "18534         40         36         40         15  \n",
       "18535         49         49         49         15  \n",
       "18536         46         42         46         17  \n",
       "18537         47         49         47         15  \n",
       "18538         47         47         47         19  \n",
       "\n",
       "[18539 rows x 68 columns]"
      ]
     },
     "execution_count": 178,
     "metadata": {},
     "output_type": "execute_result"
    }
   ],
   "source": [
    "fifa_necc"
   ]
  },
  {
   "cell_type": "markdown",
   "id": "7c810c40",
   "metadata": {},
   "source": [
    "# Considering only numeric variables"
   ]
  },
  {
   "cell_type": "code",
   "execution_count": 179,
   "id": "3c9f4f72",
   "metadata": {},
   "outputs": [],
   "source": [
    "fifa_necc_num= fifa_necc.drop([\"Best Position\",\"Preferred Foot\",\"Attacking Work Rate\",\"Defensive Work Rate\"],axis=1)"
   ]
  },
  {
   "cell_type": "code",
   "execution_count": 180,
   "id": "e0ff753e",
   "metadata": {
    "scrolled": true
   },
   "outputs": [
    {
     "name": "stdout",
     "output_type": "stream",
     "text": [
      "<class 'pandas.core.frame.DataFrame'>\n",
      "RangeIndex: 18539 entries, 0 to 18538\n",
      "Data columns (total 64 columns):\n",
      " #   Column                  Non-Null Count  Dtype\n",
      "---  ------                  --------------  -----\n",
      " 0   Age                     18539 non-null  int64\n",
      " 1   Height(in cm)           18539 non-null  int64\n",
      " 2   Weight(in kg)           18539 non-null  int64\n",
      " 3   TotalStats              18539 non-null  int64\n",
      " 4   BaseStats               18539 non-null  int64\n",
      " 5   Weak Foot Rating        18539 non-null  int64\n",
      " 6   Skill Moves             18539 non-null  int64\n",
      " 7   Pace Total              18539 non-null  int64\n",
      " 8   Shooting Total          18539 non-null  int64\n",
      " 9   Passing Total           18539 non-null  int64\n",
      " 10  Dribbling Total         18539 non-null  int64\n",
      " 11  Defending Total         18539 non-null  int64\n",
      " 12  Physicality Total       18539 non-null  int64\n",
      " 13  Crossing                18539 non-null  int64\n",
      " 14  Finishing               18539 non-null  int64\n",
      " 15  Heading Accuracy        18539 non-null  int64\n",
      " 16  Short Passing           18539 non-null  int64\n",
      " 17  Volleys                 18539 non-null  int64\n",
      " 18  Dribbling               18539 non-null  int64\n",
      " 19  Curve                   18539 non-null  int64\n",
      " 20  Freekick Accuracy       18539 non-null  int64\n",
      " 21  LongPassing             18539 non-null  int64\n",
      " 22  BallControl             18539 non-null  int64\n",
      " 23  Acceleration            18539 non-null  int64\n",
      " 24  Sprint Speed            18539 non-null  int64\n",
      " 25  Agility                 18539 non-null  int64\n",
      " 26  Reactions               18539 non-null  int64\n",
      " 27  Balance                 18539 non-null  int64\n",
      " 28  Shot Power              18539 non-null  int64\n",
      " 29  Jumping                 18539 non-null  int64\n",
      " 30  Stamina                 18539 non-null  int64\n",
      " 31  Strength                18539 non-null  int64\n",
      " 32  Long Shots              18539 non-null  int64\n",
      " 33  Aggression              18539 non-null  int64\n",
      " 34  Interceptions           18539 non-null  int64\n",
      " 35  Positioning             18539 non-null  int64\n",
      " 36  Vision                  18539 non-null  int64\n",
      " 37  Penalties               18539 non-null  int64\n",
      " 38  Composure               18539 non-null  int64\n",
      " 39  Marking                 18539 non-null  int64\n",
      " 40  Standing Tackle         18539 non-null  int64\n",
      " 41  Sliding Tackle          18539 non-null  int64\n",
      " 42  Goalkeeper Diving       18539 non-null  int64\n",
      " 43  Goalkeeper Handling     18539 non-null  int64\n",
      " 44   GoalkeeperKicking      18539 non-null  int64\n",
      " 45  Goalkeeper Positioning  18539 non-null  int64\n",
      " 46  Goalkeeper Reflexes     18539 non-null  int64\n",
      " 47  ST Rating               18539 non-null  int64\n",
      " 48  LW Rating               18539 non-null  int64\n",
      " 49  LF Rating               18539 non-null  int64\n",
      " 50  CF Rating               18539 non-null  int64\n",
      " 51  RF Rating               18539 non-null  int64\n",
      " 52  RW Rating               18539 non-null  int64\n",
      " 53  CAM Rating              18539 non-null  int64\n",
      " 54  LM Rating               18539 non-null  int64\n",
      " 55  CM Rating               18539 non-null  int64\n",
      " 56  RM Rating               18539 non-null  int64\n",
      " 57  LWB Rating              18539 non-null  int64\n",
      " 58  CDM Rating              18539 non-null  int64\n",
      " 59  RWB Rating              18539 non-null  int64\n",
      " 60  LB Rating               18539 non-null  int64\n",
      " 61  CB Rating               18539 non-null  int64\n",
      " 62  RB Rating               18539 non-null  int64\n",
      " 63  GK Rating               18539 non-null  int64\n",
      "dtypes: int64(64)\n",
      "memory usage: 9.1 MB\n"
     ]
    }
   ],
   "source": [
    "fifa_necc_num.info()"
   ]
  },
  {
   "cell_type": "code",
   "execution_count": 181,
   "id": "5cb0fc8f",
   "metadata": {},
   "outputs": [],
   "source": [
    "from sklearn.preprocessing import StandardScaler\n",
    "\n",
    "scaler = StandardScaler()\n",
    "\n",
    "fifa_standard = scaler.fit_transform(fifa_necc_num)"
   ]
  },
  {
   "cell_type": "code",
   "execution_count": 182,
   "id": "fc91ed15",
   "metadata": {
    "scrolled": true
   },
   "outputs": [
    {
     "data": {
      "text/plain": [
       "array([[ 2.06857036, -1.83012546, -1.16546879, ..., -0.10365114,\n",
       "         0.44845764, -0.08320695],\n",
       "       [ 1.85661773,  0.50294629,  0.83070877, ...,  0.23548064,\n",
       "         0.51908368, -0.14939478],\n",
       "       [ 1.64466509,  0.50294629,  0.83070877, ...,  0.57461243,\n",
       "         0.58970971, -0.08320695],\n",
       "       ...,\n",
       "       [-1.53462442, -1.68430847, -1.45063701, ..., -0.84974108,\n",
       "        -0.681559  , -0.41414611],\n",
       "       [-1.74657705, -0.5177726 , -1.45063701, ..., -0.37495657,\n",
       "        -0.61093296, -0.54652178],\n",
       "       [-0.05095598, -0.80940657, -1.3080529 , ..., -0.51060929,\n",
       "        -0.61093296, -0.28177045]])"
      ]
     },
     "execution_count": 182,
     "metadata": {},
     "output_type": "execute_result"
    }
   ],
   "source": [
    "fifa_standard"
   ]
  },
  {
   "cell_type": "markdown",
   "id": "ff8a1426",
   "metadata": {},
   "source": [
    "# Test Train for pred of ratings"
   ]
  },
  {
   "cell_type": "code",
   "execution_count": 227,
   "id": "07ab5572",
   "metadata": {},
   "outputs": [],
   "source": [
    "from sklearn.model_selection import train_test_split\n",
    "\n",
    "train_x, test_x, train_y_R, test_y_R = train_test_split(fifa_necc_num, actual_ratings, test_size=0.3)"
   ]
  },
  {
   "cell_type": "code",
   "execution_count": null,
   "id": "97e7d4d1",
   "metadata": {},
   "outputs": [],
   "source": []
  },
  {
   "cell_type": "code",
   "execution_count": 221,
   "id": "eec2c90a",
   "metadata": {},
   "outputs": [],
   "source": [
    "train_x, test_x, train_y_R, test_y_R = train_test_split(fifa_necc_num, actual_value, test_size=0.3)"
   ]
  },
  {
   "cell_type": "code",
   "execution_count": 228,
   "id": "d569b05c",
   "metadata": {},
   "outputs": [
    {
     "data": {
      "text/plain": [
       "array([71.22497492, 61.2140821 , 60.17730478, 61.5383622 , 61.99162224])"
      ]
     },
     "execution_count": 228,
     "metadata": {},
     "output_type": "execute_result"
    }
   ],
   "source": [
    "from sklearn.linear_model import LinearRegression\n",
    "from sklearn.metrics import accuracy_score\n",
    "\n",
    "\n",
    "model = LinearRegression()\n",
    "model.fit(train_x, train_y_R)\n",
    "pred_R = model.predict(test_x)\n",
    "\n",
    "\n",
    "pred_R[:5]"
   ]
  },
  {
   "cell_type": "code",
   "execution_count": 229,
   "id": "be793e1e",
   "metadata": {},
   "outputs": [
    {
     "name": "stdout",
     "output_type": "stream",
     "text": [
      "1.5584106524316212\n"
     ]
    }
   ],
   "source": [
    "print(sm.mean_absolute_error(test_y_R, pred_R))\n"
   ]
  },
  {
   "cell_type": "code",
   "execution_count": null,
   "id": "5f75aaf1",
   "metadata": {},
   "outputs": [],
   "source": []
  },
  {
   "cell_type": "code",
   "execution_count": null,
   "id": "5ba8978d",
   "metadata": {},
   "outputs": [],
   "source": []
  },
  {
   "cell_type": "code",
   "execution_count": null,
   "id": "63ddd743",
   "metadata": {},
   "outputs": [],
   "source": []
  },
  {
   "cell_type": "code",
   "execution_count": null,
   "id": "ef8671bc",
   "metadata": {},
   "outputs": [],
   "source": []
  },
  {
   "cell_type": "code",
   "execution_count": null,
   "id": "bcd8cdd3",
   "metadata": {},
   "outputs": [],
   "source": []
  },
  {
   "cell_type": "code",
   "execution_count": 184,
   "id": "7fa66980",
   "metadata": {},
   "outputs": [
    {
     "data": {
      "text/plain": [
       "2421     73\n",
       "11498    64\n",
       "9024     66\n",
       "2262     74\n",
       "998      77\n",
       "Name: Overall, dtype: int64"
      ]
     },
     "execution_count": 184,
     "metadata": {},
     "output_type": "execute_result"
    }
   ],
   "source": [
    "train_y_R[:5]"
   ]
  },
  {
   "cell_type": "code",
   "execution_count": 185,
   "id": "ca0f1a0d",
   "metadata": {},
   "outputs": [
    {
     "data": {
      "text/plain": [
       "array([62.37170987, 64.39630433, 63.66558091, 65.09738448, 63.95898034])"
      ]
     },
     "execution_count": 185,
     "metadata": {},
     "output_type": "execute_result"
    }
   ],
   "source": [
    "\n",
    "from sklearn.linear_model import LinearRegression\n",
    "from sklearn.metrics import accuracy_score\n",
    "\n",
    "\n",
    "model = LinearRegression()\n",
    "model.fit(train_x, train_y_R)\n",
    "pred_R = model.predict(test_x)\n",
    "\n",
    "\n",
    "pred_R[:5]\n"
   ]
  },
  {
   "cell_type": "code",
   "execution_count": 186,
   "id": "01a5edbc",
   "metadata": {},
   "outputs": [
    {
     "name": "stdout",
     "output_type": "stream",
     "text": [
      "1.5623958326818992\n"
     ]
    }
   ],
   "source": [
    "#Computed the r2 score\n",
    "print(sm.mean_absolute_error(test_y_R, pred_R))\n"
   ]
  },
  {
   "cell_type": "code",
   "execution_count": 187,
   "id": "d8220f46",
   "metadata": {},
   "outputs": [
    {
     "data": {
      "text/plain": [
       "11025    64\n",
       "15856    59\n",
       "9405     66\n",
       "12629    63\n",
       "10520    65\n",
       "Name: Overall, dtype: int64"
      ]
     },
     "execution_count": 187,
     "metadata": {},
     "output_type": "execute_result"
    }
   ],
   "source": [
    "test_y_R[:5]"
   ]
  },
  {
   "cell_type": "code",
   "execution_count": 188,
   "id": "3696f8ce",
   "metadata": {
    "scrolled": true
   },
   "outputs": [
    {
     "data": {
      "text/plain": [
       "numpy.ndarray"
      ]
     },
     "execution_count": 188,
     "metadata": {},
     "output_type": "execute_result"
    }
   ],
   "source": [
    "type(pred_R)"
   ]
  },
  {
   "cell_type": "markdown",
   "id": "37ba6418",
   "metadata": {},
   "source": [
    "# Creating data frame for predicted values of Rating for full data set"
   ]
  },
  {
   "cell_type": "code",
   "execution_count": 189,
   "id": "f1fa3cfb",
   "metadata": {},
   "outputs": [],
   "source": [
    "pip2_inp=model.predict(fifa_necc_num)"
   ]
  },
  {
   "cell_type": "code",
   "execution_count": 190,
   "id": "0f9a5fd1",
   "metadata": {},
   "outputs": [
    {
     "data": {
      "text/plain": [
       "18539"
      ]
     },
     "execution_count": 190,
     "metadata": {},
     "output_type": "execute_result"
    }
   ],
   "source": [
    "len(pip2_inp)"
   ]
  },
  {
   "cell_type": "code",
   "execution_count": 191,
   "id": "7fbdb1b0",
   "metadata": {},
   "outputs": [],
   "source": [
    "pip2_inp_df= pd.DataFrame(pip2_inp)"
   ]
  },
  {
   "cell_type": "code",
   "execution_count": 192,
   "id": "2711f19e",
   "metadata": {},
   "outputs": [],
   "source": [
    "pip2_inp_df.rename(columns={0:'Predicted_ratings'},inplace=True)"
   ]
  },
  {
   "cell_type": "code",
   "execution_count": 193,
   "id": "f89409db",
   "metadata": {},
   "outputs": [
    {
     "data": {
      "text/html": [
       "<div>\n",
       "<style scoped>\n",
       "    .dataframe tbody tr th:only-of-type {\n",
       "        vertical-align: middle;\n",
       "    }\n",
       "\n",
       "    .dataframe tbody tr th {\n",
       "        vertical-align: top;\n",
       "    }\n",
       "\n",
       "    .dataframe thead th {\n",
       "        text-align: right;\n",
       "    }\n",
       "</style>\n",
       "<table border=\"1\" class=\"dataframe\">\n",
       "  <thead>\n",
       "    <tr style=\"text-align: right;\">\n",
       "      <th></th>\n",
       "      <th>Predicted_ratings</th>\n",
       "    </tr>\n",
       "  </thead>\n",
       "  <tbody>\n",
       "    <tr>\n",
       "      <th>0</th>\n",
       "      <td>88.444981</td>\n",
       "    </tr>\n",
       "    <tr>\n",
       "      <th>1</th>\n",
       "      <td>91.547345</td>\n",
       "    </tr>\n",
       "    <tr>\n",
       "      <th>2</th>\n",
       "      <td>90.695964</td>\n",
       "    </tr>\n",
       "    <tr>\n",
       "      <th>3</th>\n",
       "      <td>88.536642</td>\n",
       "    </tr>\n",
       "    <tr>\n",
       "      <th>4</th>\n",
       "      <td>91.186403</td>\n",
       "    </tr>\n",
       "    <tr>\n",
       "      <th>...</th>\n",
       "      <td>...</td>\n",
       "    </tr>\n",
       "    <tr>\n",
       "      <th>18534</th>\n",
       "      <td>49.539793</td>\n",
       "    </tr>\n",
       "    <tr>\n",
       "      <th>18535</th>\n",
       "      <td>51.404000</td>\n",
       "    </tr>\n",
       "    <tr>\n",
       "      <th>18536</th>\n",
       "      <td>54.341262</td>\n",
       "    </tr>\n",
       "    <tr>\n",
       "      <th>18537</th>\n",
       "      <td>44.125321</td>\n",
       "    </tr>\n",
       "    <tr>\n",
       "      <th>18538</th>\n",
       "      <td>48.886044</td>\n",
       "    </tr>\n",
       "  </tbody>\n",
       "</table>\n",
       "<p>18539 rows × 1 columns</p>\n",
       "</div>"
      ],
      "text/plain": [
       "       Predicted_ratings\n",
       "0              88.444981\n",
       "1              91.547345\n",
       "2              90.695964\n",
       "3              88.536642\n",
       "4              91.186403\n",
       "...                  ...\n",
       "18534          49.539793\n",
       "18535          51.404000\n",
       "18536          54.341262\n",
       "18537          44.125321\n",
       "18538          48.886044\n",
       "\n",
       "[18539 rows x 1 columns]"
      ]
     },
     "execution_count": 193,
     "metadata": {},
     "output_type": "execute_result"
    }
   ],
   "source": [
    "pip2_inp_df"
   ]
  },
  {
   "cell_type": "code",
   "execution_count": 194,
   "id": "0be9aa64",
   "metadata": {},
   "outputs": [
    {
     "data": {
      "text/html": [
       "<div>\n",
       "<style scoped>\n",
       "    .dataframe tbody tr th:only-of-type {\n",
       "        vertical-align: middle;\n",
       "    }\n",
       "\n",
       "    .dataframe tbody tr th {\n",
       "        vertical-align: top;\n",
       "    }\n",
       "\n",
       "    .dataframe thead th {\n",
       "        text-align: right;\n",
       "    }\n",
       "</style>\n",
       "<table border=\"1\" class=\"dataframe\">\n",
       "  <thead>\n",
       "    <tr style=\"text-align: right;\">\n",
       "      <th></th>\n",
       "      <th>Predicted_ratings</th>\n",
       "    </tr>\n",
       "  </thead>\n",
       "  <tbody>\n",
       "    <tr>\n",
       "      <th>0</th>\n",
       "      <td>88.444981</td>\n",
       "    </tr>\n",
       "    <tr>\n",
       "      <th>1</th>\n",
       "      <td>91.547345</td>\n",
       "    </tr>\n",
       "    <tr>\n",
       "      <th>2</th>\n",
       "      <td>90.695964</td>\n",
       "    </tr>\n",
       "    <tr>\n",
       "      <th>3</th>\n",
       "      <td>88.536642</td>\n",
       "    </tr>\n",
       "    <tr>\n",
       "      <th>4</th>\n",
       "      <td>91.186403</td>\n",
       "    </tr>\n",
       "  </tbody>\n",
       "</table>\n",
       "</div>"
      ],
      "text/plain": [
       "   Predicted_ratings\n",
       "0          88.444981\n",
       "1          91.547345\n",
       "2          90.695964\n",
       "3          88.536642\n",
       "4          91.186403"
      ]
     },
     "execution_count": 194,
     "metadata": {},
     "output_type": "execute_result"
    }
   ],
   "source": [
    "pip2_inp_df.head(5)"
   ]
  },
  {
   "cell_type": "markdown",
   "id": "70d14dec",
   "metadata": {},
   "source": [
    "# Combining age with data frame created above"
   ]
  },
  {
   "cell_type": "code",
   "execution_count": null,
   "id": "55e169ce",
   "metadata": {},
   "outputs": [],
   "source": []
  },
  {
   "cell_type": "code",
   "execution_count": null,
   "id": "ef3dd0c3",
   "metadata": {},
   "outputs": [],
   "source": []
  },
  {
   "cell_type": "code",
   "execution_count": null,
   "id": "5c8bb336",
   "metadata": {},
   "outputs": [],
   "source": []
  },
  {
   "cell_type": "code",
   "execution_count": null,
   "id": "efc69633",
   "metadata": {},
   "outputs": [],
   "source": []
  },
  {
   "cell_type": "code",
   "execution_count": null,
   "id": "0f114557",
   "metadata": {},
   "outputs": [],
   "source": []
  },
  {
   "cell_type": "code",
   "execution_count": 195,
   "id": "bf156efd",
   "metadata": {},
   "outputs": [],
   "source": [
    "age=fifa_necc_num['Age']"
   ]
  },
  {
   "cell_type": "code",
   "execution_count": 196,
   "id": "148379e5",
   "metadata": {},
   "outputs": [],
   "source": [
    "age=pd.DataFrame(age)"
   ]
  },
  {
   "cell_type": "code",
   "execution_count": 197,
   "id": "fb2a6823",
   "metadata": {},
   "outputs": [
    {
     "data": {
      "text/plain": [
       "pandas.core.frame.DataFrame"
      ]
     },
     "execution_count": 197,
     "metadata": {},
     "output_type": "execute_result"
    }
   ],
   "source": [
    "type(age)"
   ]
  },
  {
   "cell_type": "code",
   "execution_count": 198,
   "id": "06ed446b",
   "metadata": {},
   "outputs": [
    {
     "data": {
      "text/html": [
       "<div>\n",
       "<style scoped>\n",
       "    .dataframe tbody tr th:only-of-type {\n",
       "        vertical-align: middle;\n",
       "    }\n",
       "\n",
       "    .dataframe tbody tr th {\n",
       "        vertical-align: top;\n",
       "    }\n",
       "\n",
       "    .dataframe thead th {\n",
       "        text-align: right;\n",
       "    }\n",
       "</style>\n",
       "<table border=\"1\" class=\"dataframe\">\n",
       "  <thead>\n",
       "    <tr style=\"text-align: right;\">\n",
       "      <th></th>\n",
       "      <th>Age</th>\n",
       "    </tr>\n",
       "  </thead>\n",
       "  <tbody>\n",
       "    <tr>\n",
       "      <th>0</th>\n",
       "      <td>35</td>\n",
       "    </tr>\n",
       "    <tr>\n",
       "      <th>1</th>\n",
       "      <td>34</td>\n",
       "    </tr>\n",
       "    <tr>\n",
       "      <th>2</th>\n",
       "      <td>33</td>\n",
       "    </tr>\n",
       "    <tr>\n",
       "      <th>3</th>\n",
       "      <td>31</td>\n",
       "    </tr>\n",
       "    <tr>\n",
       "      <th>4</th>\n",
       "      <td>23</td>\n",
       "    </tr>\n",
       "  </tbody>\n",
       "</table>\n",
       "</div>"
      ],
      "text/plain": [
       "   Age\n",
       "0   35\n",
       "1   34\n",
       "2   33\n",
       "3   31\n",
       "4   23"
      ]
     },
     "execution_count": 198,
     "metadata": {},
     "output_type": "execute_result"
    }
   ],
   "source": [
    "age.head(5)"
   ]
  },
  {
   "cell_type": "code",
   "execution_count": 199,
   "id": "b04ceab2",
   "metadata": {},
   "outputs": [],
   "source": [
    "frames = [age, pip2_inp_df]\n",
    "\n",
    "result = pd.concat(frames,axis=1)"
   ]
  },
  {
   "cell_type": "code",
   "execution_count": 200,
   "id": "c6f42cf6",
   "metadata": {
    "scrolled": false
   },
   "outputs": [
    {
     "data": {
      "text/html": [
       "<div>\n",
       "<style scoped>\n",
       "    .dataframe tbody tr th:only-of-type {\n",
       "        vertical-align: middle;\n",
       "    }\n",
       "\n",
       "    .dataframe tbody tr th {\n",
       "        vertical-align: top;\n",
       "    }\n",
       "\n",
       "    .dataframe thead th {\n",
       "        text-align: right;\n",
       "    }\n",
       "</style>\n",
       "<table border=\"1\" class=\"dataframe\">\n",
       "  <thead>\n",
       "    <tr style=\"text-align: right;\">\n",
       "      <th></th>\n",
       "      <th>Age</th>\n",
       "      <th>Predicted_ratings</th>\n",
       "    </tr>\n",
       "  </thead>\n",
       "  <tbody>\n",
       "    <tr>\n",
       "      <th>0</th>\n",
       "      <td>35</td>\n",
       "      <td>88.444981</td>\n",
       "    </tr>\n",
       "    <tr>\n",
       "      <th>1</th>\n",
       "      <td>34</td>\n",
       "      <td>91.547345</td>\n",
       "    </tr>\n",
       "    <tr>\n",
       "      <th>2</th>\n",
       "      <td>33</td>\n",
       "      <td>90.695964</td>\n",
       "    </tr>\n",
       "    <tr>\n",
       "      <th>3</th>\n",
       "      <td>31</td>\n",
       "      <td>88.536642</td>\n",
       "    </tr>\n",
       "    <tr>\n",
       "      <th>4</th>\n",
       "      <td>23</td>\n",
       "      <td>91.186403</td>\n",
       "    </tr>\n",
       "  </tbody>\n",
       "</table>\n",
       "</div>"
      ],
      "text/plain": [
       "   Age  Predicted_ratings\n",
       "0   35          88.444981\n",
       "1   34          91.547345\n",
       "2   33          90.695964\n",
       "3   31          88.536642\n",
       "4   23          91.186403"
      ]
     },
     "execution_count": 200,
     "metadata": {},
     "output_type": "execute_result"
    }
   ],
   "source": [
    "result.head(5)"
   ]
  },
  {
   "cell_type": "markdown",
   "id": "afb896b9",
   "metadata": {},
   "source": [
    "# combining total stats with data frame"
   ]
  },
  {
   "cell_type": "code",
   "execution_count": 201,
   "id": "6b1bb6da",
   "metadata": {},
   "outputs": [],
   "source": [
    "TotalStats=fifa_necc_num['TotalStats']"
   ]
  },
  {
   "cell_type": "code",
   "execution_count": 202,
   "id": "3dc7921a",
   "metadata": {},
   "outputs": [],
   "source": [
    "TotalStats=pd.DataFrame(TotalStats)"
   ]
  },
  {
   "cell_type": "code",
   "execution_count": 203,
   "id": "25cb17b9",
   "metadata": {},
   "outputs": [],
   "source": [
    "frames1 = [result, TotalStats]\n",
    "\n",
    "result1 = pd.concat(frames1,axis=1)"
   ]
  },
  {
   "cell_type": "code",
   "execution_count": 204,
   "id": "e182db2d",
   "metadata": {},
   "outputs": [
    {
     "data": {
      "text/html": [
       "<div>\n",
       "<style scoped>\n",
       "    .dataframe tbody tr th:only-of-type {\n",
       "        vertical-align: middle;\n",
       "    }\n",
       "\n",
       "    .dataframe tbody tr th {\n",
       "        vertical-align: top;\n",
       "    }\n",
       "\n",
       "    .dataframe thead th {\n",
       "        text-align: right;\n",
       "    }\n",
       "</style>\n",
       "<table border=\"1\" class=\"dataframe\">\n",
       "  <thead>\n",
       "    <tr style=\"text-align: right;\">\n",
       "      <th></th>\n",
       "      <th>Age</th>\n",
       "      <th>Predicted_ratings</th>\n",
       "      <th>TotalStats</th>\n",
       "    </tr>\n",
       "  </thead>\n",
       "  <tbody>\n",
       "    <tr>\n",
       "      <th>0</th>\n",
       "      <td>35</td>\n",
       "      <td>88.444981</td>\n",
       "      <td>2190</td>\n",
       "    </tr>\n",
       "    <tr>\n",
       "      <th>1</th>\n",
       "      <td>34</td>\n",
       "      <td>91.547345</td>\n",
       "      <td>2147</td>\n",
       "    </tr>\n",
       "    <tr>\n",
       "      <th>2</th>\n",
       "      <td>33</td>\n",
       "      <td>90.695964</td>\n",
       "      <td>2205</td>\n",
       "    </tr>\n",
       "    <tr>\n",
       "      <th>3</th>\n",
       "      <td>31</td>\n",
       "      <td>88.536642</td>\n",
       "      <td>2303</td>\n",
       "    </tr>\n",
       "    <tr>\n",
       "      <th>4</th>\n",
       "      <td>23</td>\n",
       "      <td>91.186403</td>\n",
       "      <td>2177</td>\n",
       "    </tr>\n",
       "    <tr>\n",
       "      <th>...</th>\n",
       "      <td>...</td>\n",
       "      <td>...</td>\n",
       "      <td>...</td>\n",
       "    </tr>\n",
       "    <tr>\n",
       "      <th>18534</th>\n",
       "      <td>21</td>\n",
       "      <td>49.539793</td>\n",
       "      <td>1287</td>\n",
       "    </tr>\n",
       "    <tr>\n",
       "      <th>18535</th>\n",
       "      <td>17</td>\n",
       "      <td>51.404000</td>\n",
       "      <td>1289</td>\n",
       "    </tr>\n",
       "    <tr>\n",
       "      <th>18536</th>\n",
       "      <td>18</td>\n",
       "      <td>54.341262</td>\n",
       "      <td>1333</td>\n",
       "    </tr>\n",
       "    <tr>\n",
       "      <th>18537</th>\n",
       "      <td>17</td>\n",
       "      <td>44.125321</td>\n",
       "      <td>1113</td>\n",
       "    </tr>\n",
       "    <tr>\n",
       "      <th>18538</th>\n",
       "      <td>25</td>\n",
       "      <td>48.886044</td>\n",
       "      <td>1277</td>\n",
       "    </tr>\n",
       "  </tbody>\n",
       "</table>\n",
       "<p>18539 rows × 3 columns</p>\n",
       "</div>"
      ],
      "text/plain": [
       "       Age  Predicted_ratings  TotalStats\n",
       "0       35          88.444981        2190\n",
       "1       34          91.547345        2147\n",
       "2       33          90.695964        2205\n",
       "3       31          88.536642        2303\n",
       "4       23          91.186403        2177\n",
       "...    ...                ...         ...\n",
       "18534   21          49.539793        1287\n",
       "18535   17          51.404000        1289\n",
       "18536   18          54.341262        1333\n",
       "18537   17          44.125321        1113\n",
       "18538   25          48.886044        1277\n",
       "\n",
       "[18539 rows x 3 columns]"
      ]
     },
     "execution_count": 204,
     "metadata": {},
     "output_type": "execute_result"
    }
   ],
   "source": [
    "result1"
   ]
  },
  {
   "cell_type": "code",
   "execution_count": 205,
   "id": "85f90d02",
   "metadata": {
    "scrolled": true
   },
   "outputs": [
    {
     "ename": "TypeError",
     "evalue": "cannot convert the series to <class 'int'>",
     "output_type": "error",
     "traceback": [
      "\u001b[0;31m---------------------------------------------------------------------------\u001b[0m",
      "\u001b[0;31mTypeError\u001b[0m                                 Traceback (most recent call last)",
      "Input \u001b[0;32mIn [205]\u001b[0m, in \u001b[0;36m<cell line: 1>\u001b[0;34m()\u001b[0m\n\u001b[0;32m----> 1\u001b[0m term\u001b[38;5;241m=\u001b[39m\u001b[38;5;28;43mint\u001b[39;49m\u001b[43m(\u001b[49m\u001b[43mfifa\u001b[49m\u001b[43m[\u001b[49m\u001b[38;5;124;43m\"\u001b[39;49m\u001b[38;5;124;43mContract Until\u001b[39;49m\u001b[38;5;124;43m\"\u001b[39;49m\u001b[43m]\u001b[49m\u001b[43m)\u001b[49m\u001b[38;5;241m-\u001b[39m\u001b[38;5;28mint\u001b[39m(fifa[\u001b[38;5;124m\"\u001b[39m\u001b[38;5;124mJoined On\u001b[39m\u001b[38;5;124m\"\u001b[39m])\n",
      "File \u001b[0;32m~/opt/anaconda3/lib/python3.9/site-packages/pandas/core/series.py:191\u001b[0m, in \u001b[0;36m_coerce_method.<locals>.wrapper\u001b[0;34m(self)\u001b[0m\n\u001b[1;32m    189\u001b[0m \u001b[38;5;28;01mif\u001b[39;00m \u001b[38;5;28mlen\u001b[39m(\u001b[38;5;28mself\u001b[39m) \u001b[38;5;241m==\u001b[39m \u001b[38;5;241m1\u001b[39m:\n\u001b[1;32m    190\u001b[0m     \u001b[38;5;28;01mreturn\u001b[39;00m converter(\u001b[38;5;28mself\u001b[39m\u001b[38;5;241m.\u001b[39miloc[\u001b[38;5;241m0\u001b[39m])\n\u001b[0;32m--> 191\u001b[0m \u001b[38;5;28;01mraise\u001b[39;00m \u001b[38;5;167;01mTypeError\u001b[39;00m(\u001b[38;5;124mf\u001b[39m\u001b[38;5;124m\"\u001b[39m\u001b[38;5;124mcannot convert the series to \u001b[39m\u001b[38;5;132;01m{\u001b[39;00mconverter\u001b[38;5;132;01m}\u001b[39;00m\u001b[38;5;124m\"\u001b[39m)\n",
      "\u001b[0;31mTypeError\u001b[0m: cannot convert the series to <class 'int'>"
     ]
    }
   ],
   "source": [
    "term=int(fifa[\"Contract Until\"])-int(fifa[\"Joined On\"])"
   ]
  },
  {
   "cell_type": "code",
   "execution_count": 206,
   "id": "2c2c689b",
   "metadata": {},
   "outputs": [
    {
     "ename": "ValueError",
     "evalue": "invalid literal for int() with base 10: '-'",
     "output_type": "error",
     "traceback": [
      "\u001b[0;31m---------------------------------------------------------------------------\u001b[0m",
      "\u001b[0;31mValueError\u001b[0m                                Traceback (most recent call last)",
      "Input \u001b[0;32mIn [206]\u001b[0m, in \u001b[0;36m<cell line: 1>\u001b[0;34m()\u001b[0m\n\u001b[0;32m----> 1\u001b[0m term\u001b[38;5;241m=\u001b[39m(\u001b[43mfifa\u001b[49m\u001b[43m[\u001b[49m\u001b[38;5;124;43m\"\u001b[39;49m\u001b[38;5;124;43mContract Until\u001b[39;49m\u001b[38;5;124;43m\"\u001b[39;49m\u001b[43m]\u001b[49m\u001b[38;5;241;43m.\u001b[39;49m\u001b[43mastype\u001b[49m\u001b[43m(\u001b[49m\u001b[38;5;28;43mint\u001b[39;49m\u001b[43m)\u001b[49m)\u001b[38;5;241m.\u001b[39msub(fifa[\u001b[38;5;124m\"\u001b[39m\u001b[38;5;124mJoined On\u001b[39m\u001b[38;5;124m\"\u001b[39m])\n",
      "File \u001b[0;32m~/opt/anaconda3/lib/python3.9/site-packages/pandas/core/generic.py:5912\u001b[0m, in \u001b[0;36mNDFrame.astype\u001b[0;34m(self, dtype, copy, errors)\u001b[0m\n\u001b[1;32m   5905\u001b[0m     results \u001b[38;5;241m=\u001b[39m [\n\u001b[1;32m   5906\u001b[0m         \u001b[38;5;28mself\u001b[39m\u001b[38;5;241m.\u001b[39miloc[:, i]\u001b[38;5;241m.\u001b[39mastype(dtype, copy\u001b[38;5;241m=\u001b[39mcopy)\n\u001b[1;32m   5907\u001b[0m         \u001b[38;5;28;01mfor\u001b[39;00m i \u001b[38;5;129;01min\u001b[39;00m \u001b[38;5;28mrange\u001b[39m(\u001b[38;5;28mlen\u001b[39m(\u001b[38;5;28mself\u001b[39m\u001b[38;5;241m.\u001b[39mcolumns))\n\u001b[1;32m   5908\u001b[0m     ]\n\u001b[1;32m   5910\u001b[0m \u001b[38;5;28;01melse\u001b[39;00m:\n\u001b[1;32m   5911\u001b[0m     \u001b[38;5;66;03m# else, only a single dtype is given\u001b[39;00m\n\u001b[0;32m-> 5912\u001b[0m     new_data \u001b[38;5;241m=\u001b[39m \u001b[38;5;28;43mself\u001b[39;49m\u001b[38;5;241;43m.\u001b[39;49m\u001b[43m_mgr\u001b[49m\u001b[38;5;241;43m.\u001b[39;49m\u001b[43mastype\u001b[49m\u001b[43m(\u001b[49m\u001b[43mdtype\u001b[49m\u001b[38;5;241;43m=\u001b[39;49m\u001b[43mdtype\u001b[49m\u001b[43m,\u001b[49m\u001b[43m \u001b[49m\u001b[43mcopy\u001b[49m\u001b[38;5;241;43m=\u001b[39;49m\u001b[43mcopy\u001b[49m\u001b[43m,\u001b[49m\u001b[43m \u001b[49m\u001b[43merrors\u001b[49m\u001b[38;5;241;43m=\u001b[39;49m\u001b[43merrors\u001b[49m\u001b[43m)\u001b[49m\n\u001b[1;32m   5913\u001b[0m     \u001b[38;5;28;01mreturn\u001b[39;00m \u001b[38;5;28mself\u001b[39m\u001b[38;5;241m.\u001b[39m_constructor(new_data)\u001b[38;5;241m.\u001b[39m__finalize__(\u001b[38;5;28mself\u001b[39m, method\u001b[38;5;241m=\u001b[39m\u001b[38;5;124m\"\u001b[39m\u001b[38;5;124mastype\u001b[39m\u001b[38;5;124m\"\u001b[39m)\n\u001b[1;32m   5915\u001b[0m \u001b[38;5;66;03m# GH 33113: handle empty frame or series\u001b[39;00m\n",
      "File \u001b[0;32m~/opt/anaconda3/lib/python3.9/site-packages/pandas/core/internals/managers.py:419\u001b[0m, in \u001b[0;36mBaseBlockManager.astype\u001b[0;34m(self, dtype, copy, errors)\u001b[0m\n\u001b[1;32m    418\u001b[0m \u001b[38;5;28;01mdef\u001b[39;00m \u001b[38;5;21mastype\u001b[39m(\u001b[38;5;28mself\u001b[39m: T, dtype, copy: \u001b[38;5;28mbool\u001b[39m \u001b[38;5;241m=\u001b[39m \u001b[38;5;28;01mFalse\u001b[39;00m, errors: \u001b[38;5;28mstr\u001b[39m \u001b[38;5;241m=\u001b[39m \u001b[38;5;124m\"\u001b[39m\u001b[38;5;124mraise\u001b[39m\u001b[38;5;124m\"\u001b[39m) \u001b[38;5;241m-\u001b[39m\u001b[38;5;241m>\u001b[39m T:\n\u001b[0;32m--> 419\u001b[0m     \u001b[38;5;28;01mreturn\u001b[39;00m \u001b[38;5;28;43mself\u001b[39;49m\u001b[38;5;241;43m.\u001b[39;49m\u001b[43mapply\u001b[49m\u001b[43m(\u001b[49m\u001b[38;5;124;43m\"\u001b[39;49m\u001b[38;5;124;43mastype\u001b[39;49m\u001b[38;5;124;43m\"\u001b[39;49m\u001b[43m,\u001b[49m\u001b[43m \u001b[49m\u001b[43mdtype\u001b[49m\u001b[38;5;241;43m=\u001b[39;49m\u001b[43mdtype\u001b[49m\u001b[43m,\u001b[49m\u001b[43m \u001b[49m\u001b[43mcopy\u001b[49m\u001b[38;5;241;43m=\u001b[39;49m\u001b[43mcopy\u001b[49m\u001b[43m,\u001b[49m\u001b[43m \u001b[49m\u001b[43merrors\u001b[49m\u001b[38;5;241;43m=\u001b[39;49m\u001b[43merrors\u001b[49m\u001b[43m)\u001b[49m\n",
      "File \u001b[0;32m~/opt/anaconda3/lib/python3.9/site-packages/pandas/core/internals/managers.py:304\u001b[0m, in \u001b[0;36mBaseBlockManager.apply\u001b[0;34m(self, f, align_keys, ignore_failures, **kwargs)\u001b[0m\n\u001b[1;32m    302\u001b[0m         applied \u001b[38;5;241m=\u001b[39m b\u001b[38;5;241m.\u001b[39mapply(f, \u001b[38;5;241m*\u001b[39m\u001b[38;5;241m*\u001b[39mkwargs)\n\u001b[1;32m    303\u001b[0m     \u001b[38;5;28;01melse\u001b[39;00m:\n\u001b[0;32m--> 304\u001b[0m         applied \u001b[38;5;241m=\u001b[39m \u001b[38;5;28;43mgetattr\u001b[39;49m\u001b[43m(\u001b[49m\u001b[43mb\u001b[49m\u001b[43m,\u001b[49m\u001b[43m \u001b[49m\u001b[43mf\u001b[49m\u001b[43m)\u001b[49m\u001b[43m(\u001b[49m\u001b[38;5;241;43m*\u001b[39;49m\u001b[38;5;241;43m*\u001b[39;49m\u001b[43mkwargs\u001b[49m\u001b[43m)\u001b[49m\n\u001b[1;32m    305\u001b[0m \u001b[38;5;28;01mexcept\u001b[39;00m (\u001b[38;5;167;01mTypeError\u001b[39;00m, \u001b[38;5;167;01mNotImplementedError\u001b[39;00m):\n\u001b[1;32m    306\u001b[0m     \u001b[38;5;28;01mif\u001b[39;00m \u001b[38;5;129;01mnot\u001b[39;00m ignore_failures:\n",
      "File \u001b[0;32m~/opt/anaconda3/lib/python3.9/site-packages/pandas/core/internals/blocks.py:580\u001b[0m, in \u001b[0;36mBlock.astype\u001b[0;34m(self, dtype, copy, errors)\u001b[0m\n\u001b[1;32m    562\u001b[0m \u001b[38;5;124;03m\"\"\"\u001b[39;00m\n\u001b[1;32m    563\u001b[0m \u001b[38;5;124;03mCoerce to the new dtype.\u001b[39;00m\n\u001b[1;32m    564\u001b[0m \n\u001b[0;32m   (...)\u001b[0m\n\u001b[1;32m    576\u001b[0m \u001b[38;5;124;03mBlock\u001b[39;00m\n\u001b[1;32m    577\u001b[0m \u001b[38;5;124;03m\"\"\"\u001b[39;00m\n\u001b[1;32m    578\u001b[0m values \u001b[38;5;241m=\u001b[39m \u001b[38;5;28mself\u001b[39m\u001b[38;5;241m.\u001b[39mvalues\n\u001b[0;32m--> 580\u001b[0m new_values \u001b[38;5;241m=\u001b[39m \u001b[43mastype_array_safe\u001b[49m\u001b[43m(\u001b[49m\u001b[43mvalues\u001b[49m\u001b[43m,\u001b[49m\u001b[43m \u001b[49m\u001b[43mdtype\u001b[49m\u001b[43m,\u001b[49m\u001b[43m \u001b[49m\u001b[43mcopy\u001b[49m\u001b[38;5;241;43m=\u001b[39;49m\u001b[43mcopy\u001b[49m\u001b[43m,\u001b[49m\u001b[43m \u001b[49m\u001b[43merrors\u001b[49m\u001b[38;5;241;43m=\u001b[39;49m\u001b[43merrors\u001b[49m\u001b[43m)\u001b[49m\n\u001b[1;32m    582\u001b[0m new_values \u001b[38;5;241m=\u001b[39m maybe_coerce_values(new_values)\n\u001b[1;32m    583\u001b[0m newb \u001b[38;5;241m=\u001b[39m \u001b[38;5;28mself\u001b[39m\u001b[38;5;241m.\u001b[39mmake_block(new_values)\n",
      "File \u001b[0;32m~/opt/anaconda3/lib/python3.9/site-packages/pandas/core/dtypes/cast.py:1292\u001b[0m, in \u001b[0;36mastype_array_safe\u001b[0;34m(values, dtype, copy, errors)\u001b[0m\n\u001b[1;32m   1289\u001b[0m     dtype \u001b[38;5;241m=\u001b[39m dtype\u001b[38;5;241m.\u001b[39mnumpy_dtype\n\u001b[1;32m   1291\u001b[0m \u001b[38;5;28;01mtry\u001b[39;00m:\n\u001b[0;32m-> 1292\u001b[0m     new_values \u001b[38;5;241m=\u001b[39m \u001b[43mastype_array\u001b[49m\u001b[43m(\u001b[49m\u001b[43mvalues\u001b[49m\u001b[43m,\u001b[49m\u001b[43m \u001b[49m\u001b[43mdtype\u001b[49m\u001b[43m,\u001b[49m\u001b[43m \u001b[49m\u001b[43mcopy\u001b[49m\u001b[38;5;241;43m=\u001b[39;49m\u001b[43mcopy\u001b[49m\u001b[43m)\u001b[49m\n\u001b[1;32m   1293\u001b[0m \u001b[38;5;28;01mexcept\u001b[39;00m (\u001b[38;5;167;01mValueError\u001b[39;00m, \u001b[38;5;167;01mTypeError\u001b[39;00m):\n\u001b[1;32m   1294\u001b[0m     \u001b[38;5;66;03m# e.g. astype_nansafe can fail on object-dtype of strings\u001b[39;00m\n\u001b[1;32m   1295\u001b[0m     \u001b[38;5;66;03m#  trying to convert to float\u001b[39;00m\n\u001b[1;32m   1296\u001b[0m     \u001b[38;5;28;01mif\u001b[39;00m errors \u001b[38;5;241m==\u001b[39m \u001b[38;5;124m\"\u001b[39m\u001b[38;5;124mignore\u001b[39m\u001b[38;5;124m\"\u001b[39m:\n",
      "File \u001b[0;32m~/opt/anaconda3/lib/python3.9/site-packages/pandas/core/dtypes/cast.py:1237\u001b[0m, in \u001b[0;36mastype_array\u001b[0;34m(values, dtype, copy)\u001b[0m\n\u001b[1;32m   1234\u001b[0m     values \u001b[38;5;241m=\u001b[39m values\u001b[38;5;241m.\u001b[39mastype(dtype, copy\u001b[38;5;241m=\u001b[39mcopy)\n\u001b[1;32m   1236\u001b[0m \u001b[38;5;28;01melse\u001b[39;00m:\n\u001b[0;32m-> 1237\u001b[0m     values \u001b[38;5;241m=\u001b[39m \u001b[43mastype_nansafe\u001b[49m\u001b[43m(\u001b[49m\u001b[43mvalues\u001b[49m\u001b[43m,\u001b[49m\u001b[43m \u001b[49m\u001b[43mdtype\u001b[49m\u001b[43m,\u001b[49m\u001b[43m \u001b[49m\u001b[43mcopy\u001b[49m\u001b[38;5;241;43m=\u001b[39;49m\u001b[43mcopy\u001b[49m\u001b[43m)\u001b[49m\n\u001b[1;32m   1239\u001b[0m \u001b[38;5;66;03m# in pandas we don't store numpy str dtypes, so convert to object\u001b[39;00m\n\u001b[1;32m   1240\u001b[0m \u001b[38;5;28;01mif\u001b[39;00m \u001b[38;5;28misinstance\u001b[39m(dtype, np\u001b[38;5;241m.\u001b[39mdtype) \u001b[38;5;129;01mand\u001b[39;00m \u001b[38;5;28missubclass\u001b[39m(values\u001b[38;5;241m.\u001b[39mdtype\u001b[38;5;241m.\u001b[39mtype, \u001b[38;5;28mstr\u001b[39m):\n",
      "File \u001b[0;32m~/opt/anaconda3/lib/python3.9/site-packages/pandas/core/dtypes/cast.py:1154\u001b[0m, in \u001b[0;36mastype_nansafe\u001b[0;34m(arr, dtype, copy, skipna)\u001b[0m\n\u001b[1;32m   1150\u001b[0m \u001b[38;5;28;01melif\u001b[39;00m is_object_dtype(arr\u001b[38;5;241m.\u001b[39mdtype):\n\u001b[1;32m   1151\u001b[0m \n\u001b[1;32m   1152\u001b[0m     \u001b[38;5;66;03m# work around NumPy brokenness, #1987\u001b[39;00m\n\u001b[1;32m   1153\u001b[0m     \u001b[38;5;28;01mif\u001b[39;00m np\u001b[38;5;241m.\u001b[39missubdtype(dtype\u001b[38;5;241m.\u001b[39mtype, np\u001b[38;5;241m.\u001b[39minteger):\n\u001b[0;32m-> 1154\u001b[0m         \u001b[38;5;28;01mreturn\u001b[39;00m \u001b[43mlib\u001b[49m\u001b[38;5;241;43m.\u001b[39;49m\u001b[43mastype_intsafe\u001b[49m\u001b[43m(\u001b[49m\u001b[43marr\u001b[49m\u001b[43m,\u001b[49m\u001b[43m \u001b[49m\u001b[43mdtype\u001b[49m\u001b[43m)\u001b[49m\n\u001b[1;32m   1156\u001b[0m     \u001b[38;5;66;03m# if we have a datetime/timedelta array of objects\u001b[39;00m\n\u001b[1;32m   1157\u001b[0m     \u001b[38;5;66;03m# then coerce to a proper dtype and recall astype_nansafe\u001b[39;00m\n\u001b[1;32m   1159\u001b[0m     \u001b[38;5;28;01melif\u001b[39;00m is_datetime64_dtype(dtype):\n",
      "File \u001b[0;32m~/opt/anaconda3/lib/python3.9/site-packages/pandas/_libs/lib.pyx:668\u001b[0m, in \u001b[0;36mpandas._libs.lib.astype_intsafe\u001b[0;34m()\u001b[0m\n",
      "\u001b[0;31mValueError\u001b[0m: invalid literal for int() with base 10: '-'"
     ]
    }
   ],
   "source": [
    "term=(fifa[\"Contract Until\"].astype(int)).sub(fifa[\"Joined On\"])"
   ]
  },
  {
   "cell_type": "code",
   "execution_count": null,
   "id": "c654b278",
   "metadata": {},
   "outputs": [],
   "source": []
  },
  {
   "cell_type": "code",
   "execution_count": null,
   "id": "1df2a697",
   "metadata": {},
   "outputs": [],
   "source": []
  },
  {
   "cell_type": "code",
   "execution_count": 207,
   "id": "8ffbaed6",
   "metadata": {},
   "outputs": [
    {
     "data": {
      "text/plain": [
       "18539"
      ]
     },
     "execution_count": 207,
     "metadata": {},
     "output_type": "execute_result"
    }
   ],
   "source": [
    "pip2_inp_df=result1\n",
    "len(pip2_inp_df)"
   ]
  },
  {
   "cell_type": "code",
   "execution_count": 208,
   "id": "8973d1dc",
   "metadata": {
    "scrolled": false
   },
   "outputs": [
    {
     "data": {
      "text/html": [
       "<div>\n",
       "<style scoped>\n",
       "    .dataframe tbody tr th:only-of-type {\n",
       "        vertical-align: middle;\n",
       "    }\n",
       "\n",
       "    .dataframe tbody tr th {\n",
       "        vertical-align: top;\n",
       "    }\n",
       "\n",
       "    .dataframe thead th {\n",
       "        text-align: right;\n",
       "    }\n",
       "</style>\n",
       "<table border=\"1\" class=\"dataframe\">\n",
       "  <thead>\n",
       "    <tr style=\"text-align: right;\">\n",
       "      <th></th>\n",
       "      <th>Age</th>\n",
       "      <th>Predicted_ratings</th>\n",
       "    </tr>\n",
       "  </thead>\n",
       "  <tbody>\n",
       "    <tr>\n",
       "      <th>0</th>\n",
       "      <td>35</td>\n",
       "      <td>88.444981</td>\n",
       "    </tr>\n",
       "    <tr>\n",
       "      <th>1</th>\n",
       "      <td>34</td>\n",
       "      <td>91.547345</td>\n",
       "    </tr>\n",
       "    <tr>\n",
       "      <th>2</th>\n",
       "      <td>33</td>\n",
       "      <td>90.695964</td>\n",
       "    </tr>\n",
       "    <tr>\n",
       "      <th>3</th>\n",
       "      <td>31</td>\n",
       "      <td>88.536642</td>\n",
       "    </tr>\n",
       "    <tr>\n",
       "      <th>4</th>\n",
       "      <td>23</td>\n",
       "      <td>91.186403</td>\n",
       "    </tr>\n",
       "    <tr>\n",
       "      <th>...</th>\n",
       "      <td>...</td>\n",
       "      <td>...</td>\n",
       "    </tr>\n",
       "    <tr>\n",
       "      <th>18534</th>\n",
       "      <td>21</td>\n",
       "      <td>49.539793</td>\n",
       "    </tr>\n",
       "    <tr>\n",
       "      <th>18535</th>\n",
       "      <td>17</td>\n",
       "      <td>51.404000</td>\n",
       "    </tr>\n",
       "    <tr>\n",
       "      <th>18536</th>\n",
       "      <td>18</td>\n",
       "      <td>54.341262</td>\n",
       "    </tr>\n",
       "    <tr>\n",
       "      <th>18537</th>\n",
       "      <td>17</td>\n",
       "      <td>44.125321</td>\n",
       "    </tr>\n",
       "    <tr>\n",
       "      <th>18538</th>\n",
       "      <td>25</td>\n",
       "      <td>48.886044</td>\n",
       "    </tr>\n",
       "  </tbody>\n",
       "</table>\n",
       "<p>18539 rows × 2 columns</p>\n",
       "</div>"
      ],
      "text/plain": [
       "       Age  Predicted_ratings\n",
       "0       35          88.444981\n",
       "1       34          91.547345\n",
       "2       33          90.695964\n",
       "3       31          88.536642\n",
       "4       23          91.186403\n",
       "...    ...                ...\n",
       "18534   21          49.539793\n",
       "18535   17          51.404000\n",
       "18536   18          54.341262\n",
       "18537   17          44.125321\n",
       "18538   25          48.886044\n",
       "\n",
       "[18539 rows x 2 columns]"
      ]
     },
     "execution_count": 208,
     "metadata": {},
     "output_type": "execute_result"
    }
   ],
   "source": [
    "result"
   ]
  },
  {
   "cell_type": "code",
   "execution_count": 209,
   "id": "4f3ba4ab",
   "metadata": {},
   "outputs": [
    {
     "data": {
      "text/plain": [
       "18539"
      ]
     },
     "execution_count": 209,
     "metadata": {},
     "output_type": "execute_result"
    }
   ],
   "source": [
    "len(actual_value)"
   ]
  },
  {
   "cell_type": "markdown",
   "id": "1846d3c2",
   "metadata": {},
   "source": [
    "# Train Test combined data frame for Wage prediction"
   ]
  },
  {
   "cell_type": "code",
   "execution_count": 210,
   "id": "77821ce5",
   "metadata": {},
   "outputs": [],
   "source": [
    "train_x, test_x, train_y_V, test_y_V = train_test_split(pip2_inp_df, actual_value, test_size=0.3)"
   ]
  },
  {
   "cell_type": "code",
   "execution_count": 211,
   "id": "d865d75d",
   "metadata": {},
   "outputs": [
    {
     "data": {
      "text/html": [
       "<div>\n",
       "<style scoped>\n",
       "    .dataframe tbody tr th:only-of-type {\n",
       "        vertical-align: middle;\n",
       "    }\n",
       "\n",
       "    .dataframe tbody tr th {\n",
       "        vertical-align: top;\n",
       "    }\n",
       "\n",
       "    .dataframe thead th {\n",
       "        text-align: right;\n",
       "    }\n",
       "</style>\n",
       "<table border=\"1\" class=\"dataframe\">\n",
       "  <thead>\n",
       "    <tr style=\"text-align: right;\">\n",
       "      <th></th>\n",
       "      <th>Age</th>\n",
       "      <th>Predicted_ratings</th>\n",
       "      <th>TotalStats</th>\n",
       "    </tr>\n",
       "  </thead>\n",
       "  <tbody>\n",
       "    <tr>\n",
       "      <th>9214</th>\n",
       "      <td>30</td>\n",
       "      <td>65.596508</td>\n",
       "      <td>1831</td>\n",
       "    </tr>\n",
       "    <tr>\n",
       "      <th>17257</th>\n",
       "      <td>25</td>\n",
       "      <td>56.503650</td>\n",
       "      <td>1493</td>\n",
       "    </tr>\n",
       "    <tr>\n",
       "      <th>14367</th>\n",
       "      <td>30</td>\n",
       "      <td>61.650191</td>\n",
       "      <td>1618</td>\n",
       "    </tr>\n",
       "    <tr>\n",
       "      <th>14334</th>\n",
       "      <td>24</td>\n",
       "      <td>62.746192</td>\n",
       "      <td>1650</td>\n",
       "    </tr>\n",
       "    <tr>\n",
       "      <th>9359</th>\n",
       "      <td>35</td>\n",
       "      <td>69.288175</td>\n",
       "      <td>1782</td>\n",
       "    </tr>\n",
       "  </tbody>\n",
       "</table>\n",
       "</div>"
      ],
      "text/plain": [
       "       Age  Predicted_ratings  TotalStats\n",
       "9214    30          65.596508        1831\n",
       "17257   25          56.503650        1493\n",
       "14367   30          61.650191        1618\n",
       "14334   24          62.746192        1650\n",
       "9359    35          69.288175        1782"
      ]
     },
     "execution_count": 211,
     "metadata": {},
     "output_type": "execute_result"
    }
   ],
   "source": [
    "train_x.head(5)"
   ]
  },
  {
   "cell_type": "code",
   "execution_count": 212,
   "id": "5d375363",
   "metadata": {},
   "outputs": [
    {
     "data": {
      "text/plain": [
       "5562"
      ]
     },
     "execution_count": 212,
     "metadata": {},
     "output_type": "execute_result"
    }
   ],
   "source": [
    "len(test_y_V)"
   ]
  },
  {
   "cell_type": "code",
   "execution_count": 213,
   "id": "81649269",
   "metadata": {},
   "outputs": [
    {
     "data": {
      "text/plain": [
       "array([-198484.37577543, 6556849.79093521, 1200918.86568405,\n",
       "       2072833.7278079 , 4191466.3947135 ])"
      ]
     },
     "execution_count": 213,
     "metadata": {},
     "output_type": "execute_result"
    }
   ],
   "source": [
    "\n",
    "from sklearn.linear_model import LinearRegression\n",
    "from sklearn.metrics import accuracy_score\n",
    "\n",
    "\n",
    "model = LinearRegression()\n",
    "model.fit(train_x, train_y_V)\n",
    "pred_W = model.predict(test_x)\n",
    "\n",
    "\n",
    "pred_W[:5]\n"
   ]
  },
  {
   "cell_type": "code",
   "execution_count": 214,
   "id": "de6be443",
   "metadata": {},
   "outputs": [
    {
     "name": "stdout",
     "output_type": "stream",
     "text": [
      "3157307.9926469857\n"
     ]
    }
   ],
   "source": [
    "print(sm.mean_absolute_error(test_y_V, pred_W))\n"
   ]
  },
  {
   "cell_type": "code",
   "execution_count": 215,
   "id": "257a7db3",
   "metadata": {},
   "outputs": [
    {
     "data": {
      "text/plain": [
       "12547     425000\n",
       "1562     5500000\n",
       "12660     600000\n",
       "12284     925000\n",
       "6024     1500000\n",
       "Name: Value(in Euro), dtype: int64"
      ]
     },
     "execution_count": 215,
     "metadata": {},
     "output_type": "execute_result"
    }
   ],
   "source": [
    "test_y_V[:5]"
   ]
  },
  {
   "cell_type": "code",
   "execution_count": 216,
   "id": "1fff7909",
   "metadata": {},
   "outputs": [
    {
     "data": {
      "text/plain": [
       "9214     825000\n",
       "17257    180000\n",
       "14367    325000\n",
       "14334    525000\n",
       "9359     275000\n",
       "Name: Value(in Euro), dtype: int64"
      ]
     },
     "execution_count": 216,
     "metadata": {},
     "output_type": "execute_result"
    }
   ],
   "source": [
    "train_y_V[:5]"
   ]
  },
  {
   "cell_type": "code",
   "execution_count": 217,
   "id": "477dbc82",
   "metadata": {},
   "outputs": [
    {
     "data": {
      "text/html": [
       "<div>\n",
       "<style scoped>\n",
       "    .dataframe tbody tr th:only-of-type {\n",
       "        vertical-align: middle;\n",
       "    }\n",
       "\n",
       "    .dataframe tbody tr th {\n",
       "        vertical-align: top;\n",
       "    }\n",
       "\n",
       "    .dataframe thead th {\n",
       "        text-align: right;\n",
       "    }\n",
       "</style>\n",
       "<table border=\"1\" class=\"dataframe\">\n",
       "  <thead>\n",
       "    <tr style=\"text-align: right;\">\n",
       "      <th></th>\n",
       "      <th>Age</th>\n",
       "      <th>Predicted_ratings</th>\n",
       "      <th>TotalStats</th>\n",
       "    </tr>\n",
       "  </thead>\n",
       "  <tbody>\n",
       "    <tr>\n",
       "      <th>12547</th>\n",
       "      <td>29</td>\n",
       "      <td>64.369745</td>\n",
       "      <td>1745</td>\n",
       "    </tr>\n",
       "    <tr>\n",
       "      <th>1562</th>\n",
       "      <td>30</td>\n",
       "      <td>73.246537</td>\n",
       "      <td>1893</td>\n",
       "    </tr>\n",
       "    <tr>\n",
       "      <th>12660</th>\n",
       "      <td>26</td>\n",
       "      <td>64.218066</td>\n",
       "      <td>1535</td>\n",
       "    </tr>\n",
       "    <tr>\n",
       "      <th>12284</th>\n",
       "      <td>23</td>\n",
       "      <td>63.237629</td>\n",
       "      <td>1013</td>\n",
       "    </tr>\n",
       "    <tr>\n",
       "      <th>6024</th>\n",
       "      <td>26</td>\n",
       "      <td>67.992422</td>\n",
       "      <td>1766</td>\n",
       "    </tr>\n",
       "  </tbody>\n",
       "</table>\n",
       "</div>"
      ],
      "text/plain": [
       "       Age  Predicted_ratings  TotalStats\n",
       "12547   29          64.369745        1745\n",
       "1562    30          73.246537        1893\n",
       "12660   26          64.218066        1535\n",
       "12284   23          63.237629        1013\n",
       "6024    26          67.992422        1766"
      ]
     },
     "execution_count": 217,
     "metadata": {},
     "output_type": "execute_result"
    }
   ],
   "source": [
    "test_x[:5]"
   ]
  },
  {
   "cell_type": "code",
   "execution_count": null,
   "id": "3ec97ccf",
   "metadata": {},
   "outputs": [],
   "source": []
  },
  {
   "cell_type": "code",
   "execution_count": null,
   "id": "e644536d",
   "metadata": {},
   "outputs": [],
   "source": []
  },
  {
   "cell_type": "code",
   "execution_count": null,
   "id": "7cfa2a7b",
   "metadata": {},
   "outputs": [],
   "source": []
  },
  {
   "cell_type": "code",
   "execution_count": null,
   "id": "f6b87ce3",
   "metadata": {},
   "outputs": [],
   "source": []
  },
  {
   "cell_type": "code",
   "execution_count": null,
   "id": "2ab16987",
   "metadata": {},
   "outputs": [],
   "source": []
  },
  {
   "cell_type": "code",
   "execution_count": null,
   "id": "5358f934",
   "metadata": {},
   "outputs": [],
   "source": []
  },
  {
   "cell_type": "code",
   "execution_count": null,
   "id": "1a882bb7",
   "metadata": {},
   "outputs": [],
   "source": []
  },
  {
   "cell_type": "code",
   "execution_count": null,
   "id": "07b64385",
   "metadata": {},
   "outputs": [],
   "source": []
  },
  {
   "cell_type": "code",
   "execution_count": null,
   "id": "23b65abf",
   "metadata": {},
   "outputs": [],
   "source": []
  }
 ],
 "metadata": {
  "kernelspec": {
   "display_name": "Python 3.10.1 64-bit",
   "language": "python",
   "name": "python3"
  },
  "language_info": {
   "codemirror_mode": {
    "name": "ipython",
    "version": 3
   },
   "file_extension": ".py",
   "mimetype": "text/x-python",
   "name": "python",
   "nbconvert_exporter": "python",
   "pygments_lexer": "ipython3",
   "version": "3.10.1"
  },
  "vscode": {
   "interpreter": {
    "hash": "945f8189c2be7fce75d4f1f96494a6fc87f0a24fd6cba1ae6ce1fee109b3d44b"
   }
  }
 },
 "nbformat": 4,
 "nbformat_minor": 5
}
